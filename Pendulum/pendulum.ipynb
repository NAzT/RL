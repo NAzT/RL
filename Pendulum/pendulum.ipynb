{
  "nbformat": 4,
  "nbformat_minor": 0,
  "metadata": {
    "colab": {
      "name": "Open AI Gym(pendulum)",
      "provenance": [],
      "collapsed_sections": []
    },
    "kernelspec": {
      "name": "python3",
      "display_name": "Python 3"
    }
  },
  "cells": [
    {
      "cell_type": "code",
      "metadata": {
        "id": "nUciZWFjW84k",
        "colab_type": "code",
        "colab": {}
      },
      "source": [
        "!pip install gym pyvirtualdisplay > /dev/null 2>&1\n",
        "!apt-get install -y xvfb python-opengl ffmpeg > /dev/null 2>&1"
      ],
      "execution_count": 0,
      "outputs": []
    },
    {
      "cell_type": "code",
      "metadata": {
        "id": "WnDE7L5nXr52",
        "colab_type": "code",
        "outputId": "2263d240-6be3-446c-c53c-e21eed5b0f6d",
        "colab": {
          "base_uri": "https://localhost:8080/",
          "height": 61
        }
      },
      "source": [
        "import gym\n",
        "from gym import logger as gymlogger\n",
        "from gym.wrappers import Monitor\n",
        "gymlogger.set_level(40) #error only\n",
        "import tensorflow as tf\n",
        "import numpy as np\n",
        "import random\n",
        "import matplotlib\n",
        "import matplotlib.pyplot as plt\n",
        "%matplotlib inline\n",
        "import math\n",
        "import glob\n",
        "import io\n",
        "import base64\n",
        "from IPython.display import HTML\n",
        "\n",
        "from IPython import display as ipythondisplay"
      ],
      "execution_count": 0,
      "outputs": [
        {
          "output_type": "display_data",
          "data": {
            "text/html": [
              "<p style=\"color: red;\">\n",
              "The default version of TensorFlow in Colab will soon switch to TensorFlow 2.x.<br>\n",
              "We recommend you <a href=\"https://www.tensorflow.org/guide/migrate\" target=\"_blank\">upgrade</a> now \n",
              "or ensure your notebook will continue to use TensorFlow 1.x via the <code>%tensorflow_version 1.x</code> magic:\n",
              "<a href=\"https://colab.research.google.com/notebooks/tensorflow_version.ipynb\" target=\"_blank\">more info</a>.</p>\n"
            ],
            "text/plain": [
              "<IPython.core.display.HTML object>"
            ]
          },
          "metadata": {
            "tags": []
          }
        }
      ]
    },
    {
      "cell_type": "code",
      "metadata": {
        "id": "tiMBW_WiXuPX",
        "colab_type": "code",
        "outputId": "8916d326-05fa-4222-f45c-eac4d6cc188e",
        "colab": {
          "base_uri": "https://localhost:8080/",
          "height": 70
        }
      },
      "source": [
        "from pyvirtualdisplay import Display\n",
        "display = Display(visible=0, size=(1400, 900))\n",
        "display.start()"
      ],
      "execution_count": 0,
      "outputs": [
        {
          "output_type": "stream",
          "text": [
            "xdpyinfo was not found, X start can not be checked! Please install xdpyinfo!\n"
          ],
          "name": "stderr"
        },
        {
          "output_type": "execute_result",
          "data": {
            "text/plain": [
              "<Display cmd_param=['Xvfb', '-br', '-nolisten', 'tcp', '-screen', '0', '1400x900x24', ':1013'] cmd=['Xvfb', '-br', '-nolisten', 'tcp', '-screen', '0', '1400x900x24', ':1013'] oserror=None return_code=None stdout=\"None\" stderr=\"None\" timeout_happened=False>"
            ]
          },
          "metadata": {
            "tags": []
          },
          "execution_count": 3
        }
      ]
    },
    {
      "cell_type": "code",
      "metadata": {
        "id": "vH4J6lATX1kj",
        "colab_type": "code",
        "colab": {}
      },
      "source": [
        "def show_video():\n",
        "  mp4list = glob.glob('video/*.mp4')\n",
        "  if len(mp4list) > 0:\n",
        "    mp4 = mp4list[0]\n",
        "    video = io.open(mp4, 'r+b').read()\n",
        "    encoded = base64.b64encode(video)\n",
        "    ipythondisplay.display(HTML(data='''<video alt=\"test\" autoplay \n",
        "                loop controls style=\"height: 400px;\">\n",
        "                <source src=\"data:video/mp4;base64,{0}\" type=\"video/mp4\" />\n",
        "             </video>'''.format(encoded.decode('ascii'))))\n",
        "  else: \n",
        "    print(\"Could not find video\")\n",
        "    \n",
        "\n",
        "def wrap_env(env):\n",
        "  env = Monitor(env, './video', force=True)\n",
        "  return env"
      ],
      "execution_count": 0,
      "outputs": []
    },
    {
      "cell_type": "code",
      "metadata": {
        "id": "yNg1isZcUsHt",
        "colab_type": "code",
        "outputId": "bd103c1a-cdce-4d86-d9ee-c81f38bb5a21",
        "colab": {
          "base_uri": "https://localhost:8080/",
          "height": 33
        }
      },
      "source": [
        "import gym\n",
        "import random\n",
        "from keras import Sequential\n",
        "from collections import deque\n",
        "from keras.layers import Dense\n",
        "from keras.optimizers import adam\n",
        "import matplotlib.pyplot as plt\n",
        "import math\n",
        "import numpy as np\n",
        "env = wrap_env(gym.make('Pendulum-v0'))\n",
        "env.seed(0)\n",
        "np.random.seed(0)"
      ],
      "execution_count": 0,
      "outputs": [
        {
          "output_type": "stream",
          "text": [
            "Using TensorFlow backend.\n"
          ],
          "name": "stderr"
        }
      ]
    },
    {
      "cell_type": "code",
      "metadata": {
        "id": "UXQYshODYgjw",
        "colab_type": "code",
        "colab": {}
      },
      "source": [
        "class DQN:\n",
        "\n",
        "    \"\"\" Implementation of deep q learning algorithm \"\"\"\n",
        "\n",
        "    def __init__(self, action_space, state_space):\n",
        "\n",
        "        self.action_space = action_space\n",
        "        self.state_space = state_space\n",
        "        self.epsilon = 1\n",
        "        self.gamma = .95\n",
        "        self.batch_size = 64\n",
        "        self.epsilon_min = .01\n",
        "        self.epsilon_decay = .995\n",
        "        self.learning_rate = 0.001\n",
        "        self.memory = deque(maxlen=10000)\n",
        "        self.model = self.build_model()\n",
        "\n",
        "    def build_model(self):\n",
        "\n",
        "        model = Sequential()\n",
        "        model.add(Dense(24, input_shape=(self.state_space,), activation='relu'))\n",
        "        model.add(Dense(24, activation='relu'))\n",
        "        model.add(Dense(self.action_space, activation='linear'))\n",
        "        model.compile(loss='mse', optimizer=adam(lr=self.learning_rate))\n",
        "        return model\n",
        "\n",
        "    def remember(self, state, action, reward, next_state, done):\n",
        "        self.memory.append((state, action, reward, next_state, done))\n",
        "\n",
        "    def act(self, state):\n",
        "        act_values = self.model.predict(state)\n",
        "        return np.argmax(act_values[0])\n",
        "\n",
        "    def replay(self):\n",
        "\n",
        "        if len(self.memory) < self.batch_size:\n",
        "            return\n",
        "\n",
        "        minibatch = random.sample(self.memory, self.batch_size)\n",
        "        states = np.array([i[0] for i in minibatch])\n",
        "        actions = np.array([i[1] for i in minibatch])\n",
        "        rewards = np.array([i[2] for i in minibatch])\n",
        "        next_states = np.array([i[3] for i in minibatch])\n",
        "        dones = np.array([i[4] for i in minibatch])\n",
        "\n",
        "        states = np.squeeze(states)\n",
        "        next_states = np.squeeze(next_states)\n",
        "\n",
        "        targets = rewards + self.gamma*(np.amax(self.model.predict_on_batch(next_states), axis=1))*(1-dones)\n",
        "        targets_full = self.model.predict_on_batch(states)\n",
        "\n",
        "        ind = np.array([i for i in range(self.batch_size)])\n",
        "        targets_full[[ind], [actions]] = targets\n",
        "        self.model.fit(states, targets_full, epochs=1, verbose=0)\n",
        "        if self.epsilon > self.epsilon_min:\n",
        "            self.epsilon *= self.epsilon_decay"
      ],
      "execution_count": 0,
      "outputs": []
    },
    {
      "cell_type": "code",
      "metadata": {
        "id": "PFxnJblXYS43",
        "colab_type": "code",
        "colab": {}
      },
      "source": [
        "\n",
        "def train_dqn(episode):\n",
        "    global env\n",
        "    loss = []\n",
        "    #agent = DQN(env.action_space.n, env.observation_space.shape[0])\n",
        "    agent = DQN(5, env.observation_space.shape[0])\n",
        "    for e in range(episode):\n",
        "        temp=[]\n",
        "        state = env.reset()\n",
        "        state = np.reshape(state, (1, 3))\n",
        "        score = 0\n",
        "        maxp = -1.2\n",
        "        max_steps = 1000\n",
        "        for i in range(max_steps):\n",
        "            env.render()\n",
        "            action = agent.act(state)\n",
        "            torque = [-2+action]\n",
        "            next_state, reward, done, _ = env.step(torque)\n",
        "            next_state = np.reshape(next_state, (1, 3))\n",
        "            if (next_state[0,0]>0.95):\n",
        "                score=score+1\n",
        "            reward= 25*np.exp(-1*(next_state[0,0]-1)*(next_state[0,0]-1)/0.001)-100*np.abs(10*0.5 - (10*0.5*next_state[0,0] + 0.5*0.3333*next_state[0,2] * next_state[0,2])) + 100*np.abs(10*0.5 - (10*0.5*state[0,0] + 0.5*0.3333*state[0,2] * state[0,2]))\n",
        "            maxp = max(maxp, next_state[0,0])\n",
        "            temp.append(next_state[0,0])\n",
        "            agent.remember(state, action, reward, next_state, done)\n",
        "            state = next_state\n",
        "            agent.replay()\n",
        "            if done:\n",
        "                print(\"episode: {}/{}, score: {}\".format(e, episode, score))\n",
        "                print(maxp)\n",
        "                plt.plot([i for i in range(0, 200, 1)], temp[::1])\n",
        "                plt.show()\n",
        "                env.close()\n",
        "                show_video()\n",
        "                env = wrap_env(gym.make('Pendulum-v0'))\n",
        "                env.seed(episode)\n",
        "                break\n",
        "        loss.append(score)\n",
        "    return loss"
      ],
      "execution_count": 0,
      "outputs": []
    },
    {
      "cell_type": "code",
      "metadata": {
        "id": "Xnns4HOcYXZL",
        "colab_type": "code",
        "colab": {}
      },
      "source": [
        "\n",
        "def random_policy(episode, step):\n",
        "\n",
        "    for i_episode in range(episode):\n",
        "        env.reset()\n",
        "        for t in range(step):\n",
        "            action = env.action_space.sample()\n",
        "            state, reward, done, info = env.step(action)\n",
        "            if done:\n",
        "                print(\"Episode finished after {} timesteps\".format(t+1))\n",
        "                break\n",
        "            print(\"Starting next episode\")"
      ],
      "execution_count": 0,
      "outputs": []
    },
    {
      "cell_type": "code",
      "metadata": {
        "id": "gVLxbpFHYZKu",
        "colab_type": "code",
        "colab": {}
      },
      "source": [
        "if __name__ == '__main__':\n",
        "    ep = 200\n",
        "    loss = train_dqn(ep)\n",
        "    plt.plot([i+1 for i in range(0, ep, 2)], loss[::2])\n",
        "    plt.show()"
      ],
      "execution_count": 0,
      "outputs": []
    },
    {
      "cell_type": "code",
      "metadata": {
        "id": "wFt-QpoCCpLl",
        "colab_type": "code",
        "outputId": "3d783e92-1032-46e2-9d5b-c8160c308b27",
        "colab": {
          "base_uri": "https://localhost:8080/",
          "height": 278
        }
      },
      "source": [
        "    plt.plot([i+1 for i in range(0, ep, 2)], loss[::2])\n",
        "    plt.xlabel('Episode no.')\n",
        "    plt.ylabel('Time spent in inverted position')\n",
        "    plt.show()"
      ],
      "execution_count": 0,
      "outputs": [
        {
          "output_type": "display_data",
          "data": {
            "image/png": "[encoded data removed]",
            "text/plain": [
              "<Figure size 432x288 with 1 Axes>"
            ]
          },
          "metadata": {
            "tags": []
          }
        }
      ]
    }
  ]
}